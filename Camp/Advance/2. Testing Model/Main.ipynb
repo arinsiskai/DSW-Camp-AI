{
 "cells": [
  {
   "cell_type": "markdown",
   "metadata": {},
   "source": [
    "# Step by Step TensorFlow Object Detection API Tutorial\n",
    "------------------------------------------------------------\n",
    "\n",
    "## Installation Step\n",
    "\n",
    "\n",
    "#####  - Tensorflow-script-model\n",
    "    - git clone https://github.com/tensorflow/models.git\n",
    "    - extract models\n",
    "    - buat folder dengan nama 'workshop_dsw'\n",
    "    - copy dan paste folder 'models' ke dalam folder 'tensorflow_dsw'\n",
    "        \n",
    "##### - Akses sebagai global variabel\n",
    "- Linux\n",
    "        \n",
    "        ```\n",
    "        #command-line :\n",
    "        export PYTHONPATH=\"/home/linux/workshop_dsw/models/research:/home/nodeflux/models/research/slim\n",
    "        # atau bashrc :\n",
    "        export PYTHONPATH=\"/home/linux/workshop_dsw/models/research:/home/nodeflux/models/research/slim:$PYTHONPATH\n",
    "        ```        \n",
    "- Windows \n",
    "        Go to System -> Advanced system settings -> Environment Variables -> New, and add a variable with the name PYTHON_PATH and these values. \n",
    "        - Ubah 'PYTHON_PATH' menjadi PYTHONPATH\n",
    "        - Tambahkan %PYTHONPATH% di system varibles > PATH dan di user variables > PATH\n",
    "    ![](path_win.png)\n",
    "\n",
    "##### -Tensorflow\n",
    "\n",
    "```\n",
    "         # CPU: \n",
    "         pip install tensorflow         \n",
    "         # GPU: \n",
    "         pip install tensorflow-gpu\n",
    "         # jika menggunakan anaconda\n",
    "         conda install tensorflow==1.5.0\n",
    "\n",
    "```\n",
    "##### - cocoAPI\n",
    "\n",
    "```\n",
    "       pip install \"git+https://github.com/philferriere/cocoapi.git#egg=pycocotools&subdirectory=PythonAPI\"\n",
    "```\n",
    "##### - Protobuf\n",
    "- Linux\n",
    "    \n",
    "    ```    \n",
    "        $ sudo apt-get install protobuf-compiler\n",
    "\n",
    "        # From workshop_dsw/models/research/        \n",
    "        $ cd workshop_dsw/models/research\n",
    "        $ protoc object_detection/protos/*.proto --python_out=.4\n",
    "        \n",
    "     ```\n",
    "        \n",
    "- Windows    \n",
    "    - Download [Windows v3.4.0 release “protoc-3.4.0-win32.zip”](https://github.com/google/protobuf/releases/download/v3.4.0/protoc-3.4.0-win32.zip) \n",
    "    - Extract the protoc-3.4.0-win32.zip di program files\n",
    "    - cd path\\to\\models\\research\n",
    "    - Execute the protobuf compile\n",
    "            ```\n",
    "                “C:\\Program Files\\protoc-3.4.0-win32\\bin\\protoc.exe” \n",
    "                object_detection/protos/*.proto --python_out=.\n",
    "\n",
    "             ```\n",
    "        \n",
    "##### - Download Pretrained models\n",
    "- checkpoint models [ssd_mobilenet_v1_coco](https://github.com/tensorflow/models/blob/master/research/object_detection/g3doc/detection_model_zoo.md)\n",
    "- label map [label_ssd_mobilenet_v1_coco](    https://raw.githubusercontent.com/tensorflow/models/master/research/object_detection/data/mscoco_label_map.pbtxt)\n",
    "    \n",
    "---------------------------------------\n",
    "\n",
    "### OUTLINE :\n",
    "1. Import Libararies\n",
    "2. Download Model\n",
    "3. Download Label\n",
    "4. Inisialisasi memory dan model tensorflow (frozen grap)\n",
    "5. Inisialisasi Label Map\n",
    "6. Deteksi\n"
   ]
  },
  {
   "cell_type": "markdown",
   "metadata": {},
   "source": [
    "--------------------------------------------------------------------\n",
    "## Tahap 1 : Import Libararies\n"
   ]
  },
  {
   "cell_type": "code",
   "execution_count": 1,
   "metadata": {
    "scrolled": true
   },
   "outputs": [
    {
     "name": "stderr",
     "output_type": "stream",
     "text": [
      "C:\\Users\\rizky\\Anaconda3\\lib\\site-packages\\h5py\\__init__.py:36: FutureWarning: Conversion of the second argument of issubdtype from `float` to `np.floating` is deprecated. In future, it will be treated as `np.float64 == np.dtype(float).type`.\n",
      "  from ._conv import register_converters as _register_converters\n"
     ]
    },
    {
     "name": "stdout",
     "output_type": "stream",
     "text": [
      "1.5.1\n"
     ]
    },
    {
     "name": "stderr",
     "output_type": "stream",
     "text": [
      "C:\\Users\\rizky\\Documents\\dsw\\models\\research\\object_detection\\utils\\visualization_utils.py:25: UserWarning: \n",
      "This call to matplotlib.use() has no effect because the backend has already\n",
      "been chosen; matplotlib.use() must be called *before* pylab, matplotlib.pyplot,\n",
      "or matplotlib.backends is imported for the first time.\n",
      "\n",
      "The backend was *originally* set to 'module://ipykernel.pylab.backend_inline' by the following code:\n",
      "  File \"C:\\Users\\rizky\\Anaconda3\\lib\\runpy.py\", line 193, in _run_module_as_main\n",
      "    \"__main__\", mod_spec)\n",
      "  File \"C:\\Users\\rizky\\Anaconda3\\lib\\runpy.py\", line 85, in _run_code\n",
      "    exec(code, run_globals)\n",
      "  File \"C:\\Users\\rizky\\Anaconda3\\lib\\site-packages\\ipykernel_launcher.py\", line 16, in <module>\n",
      "    app.launch_new_instance()\n",
      "  File \"C:\\Users\\rizky\\Anaconda3\\lib\\site-packages\\traitlets\\config\\application.py\", line 658, in launch_instance\n",
      "    app.start()\n",
      "  File \"C:\\Users\\rizky\\Anaconda3\\lib\\site-packages\\ipykernel\\kernelapp.py\", line 478, in start\n",
      "    self.io_loop.start()\n",
      "  File \"C:\\Users\\rizky\\Anaconda3\\lib\\site-packages\\zmq\\eventloop\\ioloop.py\", line 177, in start\n",
      "    super(ZMQIOLoop, self).start()\n",
      "  File \"C:\\Users\\rizky\\Anaconda3\\lib\\site-packages\\tornado\\ioloop.py\", line 888, in start\n",
      "    handler_func(fd_obj, events)\n",
      "  File \"C:\\Users\\rizky\\Anaconda3\\lib\\site-packages\\tornado\\stack_context.py\", line 277, in null_wrapper\n",
      "    return fn(*args, **kwargs)\n",
      "  File \"C:\\Users\\rizky\\Anaconda3\\lib\\site-packages\\zmq\\eventloop\\zmqstream.py\", line 440, in _handle_events\n",
      "    self._handle_recv()\n",
      "  File \"C:\\Users\\rizky\\Anaconda3\\lib\\site-packages\\zmq\\eventloop\\zmqstream.py\", line 472, in _handle_recv\n",
      "    self._run_callback(callback, msg)\n",
      "  File \"C:\\Users\\rizky\\Anaconda3\\lib\\site-packages\\zmq\\eventloop\\zmqstream.py\", line 414, in _run_callback\n",
      "    callback(*args, **kwargs)\n",
      "  File \"C:\\Users\\rizky\\Anaconda3\\lib\\site-packages\\tornado\\stack_context.py\", line 277, in null_wrapper\n",
      "    return fn(*args, **kwargs)\n",
      "  File \"C:\\Users\\rizky\\Anaconda3\\lib\\site-packages\\ipykernel\\kernelbase.py\", line 283, in dispatcher\n",
      "    return self.dispatch_shell(stream, msg)\n",
      "  File \"C:\\Users\\rizky\\Anaconda3\\lib\\site-packages\\ipykernel\\kernelbase.py\", line 233, in dispatch_shell\n",
      "    handler(stream, idents, msg)\n",
      "  File \"C:\\Users\\rizky\\Anaconda3\\lib\\site-packages\\ipykernel\\kernelbase.py\", line 399, in execute_request\n",
      "    user_expressions, allow_stdin)\n",
      "  File \"C:\\Users\\rizky\\Anaconda3\\lib\\site-packages\\ipykernel\\ipkernel.py\", line 208, in do_execute\n",
      "    res = shell.run_cell(code, store_history=store_history, silent=silent)\n",
      "  File \"C:\\Users\\rizky\\Anaconda3\\lib\\site-packages\\ipykernel\\zmqshell.py\", line 537, in run_cell\n",
      "    return super(ZMQInteractiveShell, self).run_cell(*args, **kwargs)\n",
      "  File \"C:\\Users\\rizky\\Anaconda3\\lib\\site-packages\\IPython\\core\\interactiveshell.py\", line 2728, in run_cell\n",
      "    interactivity=interactivity, compiler=compiler, result=result)\n",
      "  File \"C:\\Users\\rizky\\Anaconda3\\lib\\site-packages\\IPython\\core\\interactiveshell.py\", line 2850, in run_ast_nodes\n",
      "    if self.run_code(code, result):\n",
      "  File \"C:\\Users\\rizky\\Anaconda3\\lib\\site-packages\\IPython\\core\\interactiveshell.py\", line 2910, in run_code\n",
      "    exec(code_obj, self.user_global_ns, self.user_ns)\n",
      "  File \"<ipython-input-1-709e9e51cf9b>\", line 9, in <module>\n",
      "    from matplotlib import pyplot as plt\n",
      "  File \"C:\\Users\\rizky\\Anaconda3\\lib\\site-packages\\matplotlib\\pyplot.py\", line 72, in <module>\n",
      "    from matplotlib.backends import pylab_setup\n",
      "  File \"C:\\Users\\rizky\\Anaconda3\\lib\\site-packages\\matplotlib\\backends\\__init__.py\", line 14, in <module>\n",
      "    line for line in traceback.format_stack()\n",
      "\n",
      "\n",
      "  import matplotlib; matplotlib.use('Agg')  # pylint: disable=multiple-statements\n"
     ]
    }
   ],
   "source": [
    "\n",
    "'''import library yag dibutuhakan'''\n",
    "import tensorflow as tf\n",
    "import os\n",
    "import numpy as np\n",
    "import six.moves.urllib as urllib\n",
    "import tarfile\n",
    "from PIL import Image\n",
    "from matplotlib import pyplot as plt\n",
    "from  object_detection.utils import label_map_util\n",
    "from  object_detection.utils import visualization_utils as vis_util\n",
    "import cv2\n",
    "\n",
    "\n",
    "print (tf.__version__)\n",
    "if tf.__version__ < '1.4.0':\n",
    "  raise ImportError('Please upgrade your tensorflow installation to v1.4.* or later!')"
   ]
  },
  {
   "cell_type": "markdown",
   "metadata": {},
   "source": [
    "--------------------------------------------------------------------\n",
    "## Tahap 2 : Download Model \n",
    "\n",
    "Periksa model di dalam direktori yang kita tuju. Jika belum ada, maka model akan di download di.[detection model zoo](https://github.com/tensorflow/models/blob/master/research/object_detection/g3doc/detection_model_zoo.md) \n"
   ]
  },
  {
   "cell_type": "code",
   "execution_count": 2,
   "metadata": {},
   "outputs": [
    {
     "name": "stdout",
     "output_type": "stream",
     "text": [
      "Model sudah ada\n",
      "model path : C:\\Users\\rizky\\Documents\\dsw\\dsw_testing\\ssd_mobilenet_v1_coco_2017_11_17/frozen_inference_graph.pb\n"
     ]
    }
   ],
   "source": [
    " '''Download model'''\n",
    "        \n",
    "MODEL_NAME = 'ssd_mobilenet_v1_coco_2017_11_17'\n",
    "MODEL_FILE = MODEL_NAME + '.tar.gz'\n",
    "DOWNLOAD_BASE = 'http://download.tensorflow.org/models/object_detection/'\n",
    "NUM_CLASSES = 90\n",
    "\n",
    "# Path to frozen detection graph. This is the actual model that is used for the object detection.\n",
    "PATH_TO_CKPT = MODEL_NAME + '/frozen_inference_graph.pb'\n",
    "\n",
    "\n",
    "if not os.path.isfile(os.path.join(os.getcwd(),PATH_TO_CKPT)):   \n",
    "\n",
    "    opener = urllib.request.URLopener()\n",
    "    opener.retrieve(DOWNLOAD_BASE + MODEL_FILE, MODEL_FILE)\n",
    "    tar_file = tarfile.open(MODEL_FILE)\n",
    "    for file in tar_file.getmembers():\n",
    "        print (file)\n",
    "\n",
    "        file_name = os.path.basename(file.name)\n",
    "        print (file_name)\n",
    "        if 'frozen_inference_graph.pb' in file_name:\n",
    "          \n",
    "            tar_file.extract(file, os.getcwd())\n",
    "else:\n",
    "    print ('Model sudah ada')\n",
    "    \n",
    "print ('model path :', os.path.join(os.getcwd(),PATH_TO_CKPT))"
   ]
  },
  {
   "cell_type": "markdown",
   "metadata": {},
   "source": [
    "## Tahap 3 : Download Label\n",
    "\n",
    "Jika kita sudah men-download repo object_detection tensorflow, kita sudah diberikan file label secara default untuk general model seperti data coco, kitti, pascal. Namun jika kita ingin kita ingin men-downloadnya langsung di repo tensorflow, bisa akses dengan cara sebagai berikut."
   ]
  },
  {
   "cell_type": "code",
   "execution_count": 3,
   "metadata": {},
   "outputs": [
    {
     "name": "stdout",
     "output_type": "stream",
     "text": [
      "Label Path :  C:\\Users\\rizky\\Documents\\dsw\\dsw_testing\\mscoco_label_map.pbtxt\n",
      "download selesai\n"
     ]
    }
   ],
   "source": [
    "'''Download label '''\n",
    "\n",
    "# LABEL URL\n",
    "__LABEL_DOWNLOAD_URL = (\n",
    "        'https://raw.githubusercontent.com/tensorflow/models/master/'\n",
    "        'research/object_detection/data/mscoco_label_map.pbtxt')\n",
    "# List of the strings that is used to add correct label for each box.\n",
    "__LABEL_PATH = 'mscoco_label_map.pbtxt'\n",
    "\n",
    "label_path = os.path.join(os.getcwd(),__LABEL_PATH)\n",
    "\n",
    "if not os.path.exists(label_path):   \n",
    "    opener = urllib.request.URLopener()\n",
    "    opener.retrieve(__LABEL_DOWNLOAD_URL, label_path)\n",
    "\n",
    "print ('Label Path : ',label_path)\n",
    "print ('download selesai')"
   ]
  },
  {
   "cell_type": "code",
   "execution_count": 4,
   "metadata": {},
   "outputs": [
    {
     "data": {
      "text/plain": [
       "'\\nBagian ini untuk mendeteksi muka, setelah melakukan pelatihan.\\n------------------------------------------------------------\\nNote : Non-aktifkan jika belum/tidak digunakan\\n'"
      ]
     },
     "execution_count": 4,
     "metadata": {},
     "output_type": "execute_result"
    }
   ],
   "source": [
    "'''\n",
    "Bagian ini untuk mendeteksi muka, setelah melakukan pelatihan.\n",
    "------------------------------------------------------------\n",
    "Note : Non-aktifkan jika belum/tidak digunakan\n",
    "'''\n",
    "###  path model\n",
    "# PATH_TO_CKPT='/home/nodeflux/workshop/dsw/dsw_training/training/frozen_inference_graph.pb'\n",
    "\n",
    "###  path label\n",
    "# __LABEL_PATH='/home/nodeflux/workshop/dsw/dsw_training/wider_label_map.pbtxt'\n",
    "\n",
    "### jumlah class yang dideteksi\n",
    "# NUM_CLASSES = 1"
   ]
  },
  {
   "cell_type": "markdown",
   "metadata": {},
   "source": [
    "## Tahap 4 : Inisialisasi memory dan model tensorflow (frozen grap)"
   ]
  },
  {
   "cell_type": "code",
   "execution_count": 5,
   "metadata": {},
   "outputs": [],
   "source": [
    "'''Load Model into memory'''\n",
    "\n",
    "detection_graph = tf.Graph()\n",
    "with detection_graph.as_default():\n",
    "  od_graph_def = tf.GraphDef()\n",
    "  with tf.gfile.GFile(PATH_TO_CKPT, 'rb') as fid:\n",
    "    serialized_graph = fid.read()\n",
    "    od_graph_def.ParseFromString(serialized_graph)\n",
    "    tf.import_graph_def(od_graph_def, name='')\n",
    "\n",
    "# Definite input and output Tensors for detection_graph\n",
    "image_tensor = detection_graph.get_tensor_by_name('image_tensor:0')\n",
    "# Each box represents a part of the image where a particular object was detected.\n",
    "detection_boxes = detection_graph.get_tensor_by_name('detection_boxes:0')\n",
    "# Each score represent how level of confidence for each of the objects.\n",
    "# Score is shown on the result image, together with the class label.\n",
    "detection_scores = detection_graph.get_tensor_by_name('detection_scores:0')\n",
    "detection_classes = detection_graph.get_tensor_by_name('detection_classes:0')\n",
    "num_detections = detection_graph.get_tensor_by_name('num_detections:0')\n"
   ]
  },
  {
   "cell_type": "markdown",
   "metadata": {},
   "source": [
    "----------------------------------------\n",
    "## Tahap 5 : Inisialisasi Label"
   ]
  },
  {
   "cell_type": "code",
   "execution_count": 6,
   "metadata": {},
   "outputs": [
    {
     "name": "stdout",
     "output_type": "stream",
     "text": [
      "{1: {'id': 1, 'name': 'person'}, 2: {'id': 2, 'name': 'bicycle'}, 3: {'id': 3, 'name': 'car'}, 4: {'id': 4, 'name': 'motorcycle'}, 5: {'id': 5, 'name': 'airplane'}, 6: {'id': 6, 'name': 'bus'}, 7: {'id': 7, 'name': 'train'}, 8: {'id': 8, 'name': 'truck'}, 9: {'id': 9, 'name': 'boat'}, 10: {'id': 10, 'name': 'traffic light'}, 11: {'id': 11, 'name': 'fire hydrant'}, 13: {'id': 13, 'name': 'stop sign'}, 14: {'id': 14, 'name': 'parking meter'}, 15: {'id': 15, 'name': 'bench'}, 16: {'id': 16, 'name': 'bird'}, 17: {'id': 17, 'name': 'cat'}, 18: {'id': 18, 'name': 'dog'}, 19: {'id': 19, 'name': 'horse'}, 20: {'id': 20, 'name': 'sheep'}, 21: {'id': 21, 'name': 'cow'}, 22: {'id': 22, 'name': 'elephant'}, 23: {'id': 23, 'name': 'bear'}, 24: {'id': 24, 'name': 'zebra'}, 25: {'id': 25, 'name': 'giraffe'}, 27: {'id': 27, 'name': 'backpack'}, 28: {'id': 28, 'name': 'umbrella'}, 31: {'id': 31, 'name': 'handbag'}, 32: {'id': 32, 'name': 'tie'}, 33: {'id': 33, 'name': 'suitcase'}, 34: {'id': 34, 'name': 'frisbee'}, 35: {'id': 35, 'name': 'skis'}, 36: {'id': 36, 'name': 'snowboard'}, 37: {'id': 37, 'name': 'sports ball'}, 38: {'id': 38, 'name': 'kite'}, 39: {'id': 39, 'name': 'baseball bat'}, 40: {'id': 40, 'name': 'baseball glove'}, 41: {'id': 41, 'name': 'skateboard'}, 42: {'id': 42, 'name': 'surfboard'}, 43: {'id': 43, 'name': 'tennis racket'}, 44: {'id': 44, 'name': 'bottle'}, 46: {'id': 46, 'name': 'wine glass'}, 47: {'id': 47, 'name': 'cup'}, 48: {'id': 48, 'name': 'fork'}, 49: {'id': 49, 'name': 'knife'}, 50: {'id': 50, 'name': 'spoon'}, 51: {'id': 51, 'name': 'bowl'}, 52: {'id': 52, 'name': 'banana'}, 53: {'id': 53, 'name': 'apple'}, 54: {'id': 54, 'name': 'sandwich'}, 55: {'id': 55, 'name': 'orange'}, 56: {'id': 56, 'name': 'broccoli'}, 57: {'id': 57, 'name': 'carrot'}, 58: {'id': 58, 'name': 'hot dog'}, 59: {'id': 59, 'name': 'pizza'}, 60: {'id': 60, 'name': 'donut'}, 61: {'id': 61, 'name': 'cake'}, 62: {'id': 62, 'name': 'chair'}, 63: {'id': 63, 'name': 'couch'}, 64: {'id': 64, 'name': 'potted plant'}, 65: {'id': 65, 'name': 'bed'}, 67: {'id': 67, 'name': 'dining table'}, 70: {'id': 70, 'name': 'toilet'}, 72: {'id': 72, 'name': 'tv'}, 73: {'id': 73, 'name': 'laptop'}, 74: {'id': 74, 'name': 'mouse'}, 75: {'id': 75, 'name': 'remote'}, 76: {'id': 76, 'name': 'keyboard'}, 77: {'id': 77, 'name': 'cell phone'}, 78: {'id': 78, 'name': 'microwave'}, 79: {'id': 79, 'name': 'oven'}, 80: {'id': 80, 'name': 'toaster'}, 81: {'id': 81, 'name': 'sink'}, 82: {'id': 82, 'name': 'refrigerator'}, 84: {'id': 84, 'name': 'book'}, 85: {'id': 85, 'name': 'clock'}, 86: {'id': 86, 'name': 'vase'}, 87: {'id': 87, 'name': 'scissors'}, 88: {'id': 88, 'name': 'teddy bear'}, 89: {'id': 89, 'name': 'hair drier'}, 90: {'id': 90, 'name': 'toothbrush'}}\n",
      "--done--\n"
     ]
    }
   ],
   "source": [
    "''' Load Label into memory'''\n",
    "\n",
    "label_map = label_map_util.load_labelmap(__LABEL_PATH)\n",
    "categories = label_map_util.convert_label_map_to_categories(label_map, max_num_classes=NUM_CLASSES, use_display_name=True)\n",
    "category_index = label_map_util.create_category_index(categories)\n",
    "\n",
    "print (category_index)\n",
    "print ('--done--')"
   ]
  },
  {
   "cell_type": "markdown",
   "metadata": {},
   "source": [
    "## Tahap 6 : Objek Deteksi dengan Gambar "
   ]
  },
  {
   "cell_type": "code",
   "execution_count": 1,
   "metadata": {},
   "outputs": [
    {
     "data": {
      "text/plain": [
       "'\\nBagian ini untuk mendeteksi satu gambar\\n------------------------------------------------------------\\nNote : Non-aktifkan jika belum/tidak digunakan\\n'"
      ]
     },
     "execution_count": 1,
     "metadata": {},
     "output_type": "execute_result"
    }
   ],
   "source": [
    "'''\n",
    "Bagian ini untuk mendeteksi satu gambar\n",
    "------------------------------------------------------------\n",
    "Note : Non-aktifkan jika belum/tidak digunakan\n",
    "'''\n",
    "# def image_pil_to_np(image):\n",
    "#   (im_width, im_height) = image.size\n",
    "#   return np.array(image.getdata()).reshape(\n",
    "#       (im_height, im_width, 3)).astype(np.uint8)\n",
    "\n",
    "# # Load an image (path): \n",
    "# image_path='1.jpg'\n",
    "# img_input=cv2.imread(image_path) #open cv\n",
    "\n",
    "# with detection_graph.as_default():\n",
    "#     with tf.Session(graph=detection_graph) as sess:\n",
    "#         # Expand dimensions since the model expects images to have shape: [1, None, None, 3]\n",
    "#         image_np_expanded = np.expand_dims(img_input, axis=0)       \n",
    "        \n",
    "#         # Actual detection.\n",
    "#         (boxes, scores, classes, num) = sess.run(\n",
    "#               [detection_boxes, detection_scores, detection_classes, num_detections],\n",
    "#               feed_dict={image_tensor: image_np_expanded})\n",
    "#         # Visualization of the results of a detection.\n",
    "#         vis_util.visualize_boxes_and_labels_on_image_array(\n",
    "#                                                           img_input,\n",
    "#                                                           np.squeeze(boxes),\n",
    "#                                                           np.squeeze(classes).astype(np.int32),\n",
    "#                                                           np.squeeze(scores),\n",
    "#                                                           category_index,\n",
    "#                                                           min_score_thresh=.35,\n",
    "#                                                           use_normalized_coordinates=True,\n",
    "#                                                           line_thickness=1)\n",
    "        \n",
    "#         sess.close()\n",
    "#         #### jika munggunakan open cv##############\n",
    "#         cv2.imshow('preview',img_input)\n",
    "#         cv2.waitKey(0)        \n",
    "\n",
    "#         print ('The result of detection object')\n",
    "#         print ('----boxes-----')\n",
    "#         print (boxes)\n",
    "#         print ('----scores-----')\n",
    "#         print (np.squeeze(scores))\n",
    "#         print ('----classes-----')\n",
    "#         print (classes)\n",
    "#         print ('----num-----')\n",
    "#         print (num)       \n",
    "\n",
    "\n",
    "# cv2.destroyAllWindows()\n",
    "# print ('done')\n"
   ]
  },
  {
   "cell_type": "markdown",
   "metadata": {},
   "source": [
    "# Tahap 7 : Objek Deteksi Menggunakan Video"
   ]
  },
  {
   "cell_type": "code",
   "execution_count": 3,
   "metadata": {},
   "outputs": [
    {
     "ename": "NameError",
     "evalue": "name 'cv2' is not defined",
     "output_type": "error",
     "traceback": [
      "\u001b[1;31m---------------------------------------------------------------------------\u001b[0m",
      "\u001b[1;31mNameError\u001b[0m                                 Traceback (most recent call last)",
      "\u001b[1;32m<ipython-input-3-aeff73c2cc75>\u001b[0m in \u001b[0;36m<module>\u001b[1;34m()\u001b[0m\n\u001b[0;32m      5\u001b[0m '''\n\u001b[0;32m      6\u001b[0m \u001b[1;33m\u001b[0m\u001b[0m\n\u001b[1;32m----> 7\u001b[1;33m \u001b[0mcap\u001b[0m \u001b[1;33m=\u001b[0m\u001b[0mcv2\u001b[0m\u001b[1;33m.\u001b[0m\u001b[0mVideoCapture\u001b[0m\u001b[1;33m(\u001b[0m\u001b[1;36m0\u001b[0m\u001b[1;33m)\u001b[0m\u001b[1;33m\u001b[0m\u001b[0m\n\u001b[0m\u001b[0;32m      8\u001b[0m \u001b[1;33m\u001b[0m\u001b[0m\n\u001b[0;32m      9\u001b[0m \u001b[1;32mwhile\u001b[0m \u001b[1;33m(\u001b[0m\u001b[1;32mTrue\u001b[0m\u001b[1;33m)\u001b[0m\u001b[1;33m:\u001b[0m\u001b[1;33m\u001b[0m\u001b[0m\n",
      "\u001b[1;31mNameError\u001b[0m: name 'cv2' is not defined"
     ]
    }
   ],
   "source": [
    "'''\n",
    "Bagian ini untuk mendeteksi dari file stream video/ camera\n",
    "------------------------------------------------------------\n",
    "Note : Non-aktifkan jika belum/tidak digunakan\n",
    "'''\n",
    "\n",
    "cap =cv2.VideoCapture(0)\n",
    "\n",
    "while (True):\n",
    "    ret,frame= cap.read()\n",
    "    img_input=frame\n",
    "    \n",
    "    with detection_graph.as_default():\n",
    "        with tf.Session(graph=detection_graph) as sess:\n",
    "            # Expand dimensions since the model expects images to have shape: [1, None, None, 3]\n",
    "            image_np_expanded = np.expand_dims(img_input, axis=0)       \n",
    "\n",
    "            # Actual detection.\n",
    "            (boxes, scores, classes, num) = sess.run(\n",
    "                  [detection_boxes, detection_scores, detection_classes, num_detections],\n",
    "                  feed_dict={image_tensor: image_np_expanded})\n",
    "            # Visualization of the results of a detection.\n",
    "            vis_util.visualize_boxes_and_labels_on_image_array(\n",
    "                                                              img_input,\n",
    "                                                              np.squeeze(boxes),\n",
    "                                                              np.squeeze(classes).astype(np.int32),\n",
    "                                                              np.squeeze(scores),\n",
    "                                                              category_index,\n",
    "                                                              min_score_thresh=.35,\n",
    "                                                              use_normalized_coordinates=True,\n",
    "                                                              line_thickness=1)\n",
    "    \n",
    "    \n",
    "        cv2.imshow('preview',img_input)\n",
    "        cv2.waitKey(1)\n",
    "cv2.destroyAllWindows()\n",
    "    "
   ]
  },
  {
   "cell_type": "code",
   "execution_count": null,
   "metadata": {},
   "outputs": [],
   "source": []
  }
 ],
 "metadata": {
  "anaconda-cloud": {},
  "kernelspec": {
   "display_name": "Python 3",
   "language": "python",
   "name": "python3"
  },
  "language_info": {
   "codemirror_mode": {
    "name": "ipython",
    "version": 3
   },
   "file_extension": ".py",
   "mimetype": "text/x-python",
   "name": "python",
   "nbconvert_exporter": "python",
   "pygments_lexer": "ipython3",
   "version": "3.6.4"
  }
 },
 "nbformat": 4,
 "nbformat_minor": 2
}
