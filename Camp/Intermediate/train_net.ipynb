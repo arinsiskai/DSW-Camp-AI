{
 "cells": [
  {
   "cell_type": "markdown",
   "metadata": {},
   "source": [
    "## VGG Architecture"
   ]
  },
  {
   "cell_type": "markdown",
   "metadata": {},
   "source": [
    "We will build a like VGG network with some modification in the network shape. VGG is well known architecture released by Oxford university. Based on ILSVRC-2014 submission, VGG secured the first and the second places in the localization and classification tasks respectively. "
   ]
  },
  {
   "cell_type": "markdown",
   "metadata": {},
   "source": [
    "![](assets/vgg1.jpg)"
   ]
  },
  {
   "cell_type": "markdown",
   "metadata": {},
   "source": [
    "![](assets/vgg2.jpg)"
   ]
  },
  {
   "cell_type": "markdown",
   "metadata": {},
   "source": [
    "To install opencv conda:\n",
    "- conda install -c conda-forge opencv\n",
    "To install Tensorflow conda:\n",
    "- conda install -c conda-forge tensorflow"
   ]
  },
  {
   "cell_type": "code",
   "execution_count": 1,
   "metadata": {},
   "outputs": [],
   "source": [
    "import tensorflow as tf\n",
    "from os import walk\n",
    "import cv2\n",
    "import numpy as np\n",
    "import matplotlib.pyplot as plt\n",
    "from sklearn.utils import shuffle"
   ]
  },
  {
   "cell_type": "markdown",
   "metadata": {},
   "source": [
    "## Create TF Gate\n",
    "\"placeholder\" is a gate for us to feed the TF graph.\n",
    "In this case, we want to classify face gender, So there are two classes: Male and female.\n",
    "The face image input is a color image in which 60 x 60 shape."
   ]
  },
  {
   "cell_type": "code",
   "execution_count": 2,
   "metadata": {},
   "outputs": [],
   "source": [
    "num_class = 2\n",
    "x_input = tf.placeholder(dtype=tf.float32, shape=[None, 60, 60, 3], name='x_input')\n",
    "y_output = tf.placeholder(dtype=tf.float32, shape=[None, 10], name='y_input')"
   ]
  },
  {
   "cell_type": "markdown",
   "metadata": {},
   "source": [
    "## Build First Convolution Block\n",
    "Based on VGG architecture, the first block has 224x224x64 in shape. But, we built a placeholder for 60x60 image, so it will be modified to 60x60x64 in shape.\n",
    "60 is image width,\n",
    "60 is image heights, and\n",
    "64 is the num of filter"
   ]
  },
  {
   "cell_type": "code",
   "execution_count": 3,
   "metadata": {},
   "outputs": [
    {
     "data": {
      "text/plain": [
       "<tf.Tensor 'MaxPool:0' shape=(?, 30, 30, 64) dtype=float32>"
      ]
     },
     "execution_count": 3,
     "metadata": {},
     "output_type": "execute_result"
    }
   ],
   "source": [
    "b1_c1 = tf.nn.conv2d(x_input, tf.Variable(tf.truncated_normal(shape=[3, 3, 3, 64], stddev=0.05)), [1,1,1,1], 'SAME')\n",
    "b1_c1 += tf.Variable(tf.constant(0.05, shape=[64]))\n",
    "\n",
    "b1_c2 = tf.nn.conv2d(b1_c1, tf.Variable(tf.truncated_normal(shape=[3, 3, 64, 64], stddev=0.05)), [1,1,1,1], 'SAME')\n",
    "b1_c2 += tf.Variable(tf.constant(0.05, shape=[64]))\n",
    "\n",
    "b1_p = tf.nn.max_pool(b1_c2, [1, 2, 2, 1], [1,2,2,1], 'SAME')\n",
    "b1_p"
   ]
  },
  {
   "cell_type": "markdown",
   "metadata": {},
   "source": [
    "## Build Second Convolution Block"
   ]
  },
  {
   "cell_type": "code",
   "execution_count": 4,
   "metadata": {},
   "outputs": [
    {
     "data": {
      "text/plain": [
       "<tf.Tensor 'MaxPool_1:0' shape=(?, 15, 15, 128) dtype=float32>"
      ]
     },
     "execution_count": 4,
     "metadata": {},
     "output_type": "execute_result"
    }
   ],
   "source": [
    "b2_c1 = tf.nn.conv2d(b1_p, tf.Variable(tf.truncated_normal(shape=[3, 3, 64, 128], stddev=0.05)), [1,1,1,1], 'SAME')\n",
    "b2_c1 += tf.Variable(tf.constant(0.05, shape=[128]))\n",
    "\n",
    "b2_c2 = tf.nn.conv2d(b2_c1, tf.Variable(tf.truncated_normal(shape=[3, 3, 128, 128], stddev=0.05)), [1,1,1,1], 'SAME')\n",
    "b2_c2 += tf.Variable(tf.constant(0.05, shape=[128]))\n",
    "\n",
    "b2_p = tf.nn.max_pool(b2_c2, [1, 2, 2, 1], [1,2,2,1], 'SAME')\n",
    "b2_p"
   ]
  },
  {
   "cell_type": "markdown",
   "metadata": {},
   "source": [
    "## Build Third Convolution Block"
   ]
  },
  {
   "cell_type": "code",
   "execution_count": 5,
   "metadata": {},
   "outputs": [
    {
     "data": {
      "text/plain": [
       "<tf.Tensor 'MaxPool_2:0' shape=(?, 8, 8, 256) dtype=float32>"
      ]
     },
     "execution_count": 5,
     "metadata": {},
     "output_type": "execute_result"
    }
   ],
   "source": [
    "b3_c1 = tf.nn.conv2d(b2_p, tf.Variable(tf.truncated_normal(shape=[3, 3, 128, 256], stddev=0.05)), [1,1,1,1], 'SAME')\n",
    "b3_c1 += tf.Variable(tf.constant(0.05, shape=[256]))\n",
    "\n",
    "b3_c2 = tf.nn.conv2d(b3_c1, tf.Variable(tf.truncated_normal(shape=[3, 3, 256, 256], stddev=0.05)), [1,1,1,1], 'SAME')\n",
    "b3_c2 += tf.Variable(tf.constant(0.05, shape=[256]))\n",
    "\n",
    "b3_c3 = tf.nn.conv2d(b3_c2, tf.Variable(tf.truncated_normal(shape=[3, 3, 256, 256], stddev=0.05)), [1,1,1,1], 'SAME')\n",
    "b3_c3 += tf.Variable(tf.constant(0.05, shape=[256]))\n",
    "\n",
    "b3_p = tf.nn.max_pool(b3_c3, [1, 2, 2, 1], [1,2,2,1], 'SAME')\n",
    "b3_p"
   ]
  },
  {
   "cell_type": "markdown",
   "metadata": {},
   "source": [
    "## Build Fourth Convolution Block"
   ]
  },
  {
   "cell_type": "code",
   "execution_count": 6,
   "metadata": {},
   "outputs": [
    {
     "data": {
      "text/plain": [
       "<tf.Tensor 'MaxPool_3:0' shape=(?, 4, 4, 512) dtype=float32>"
      ]
     },
     "execution_count": 6,
     "metadata": {},
     "output_type": "execute_result"
    }
   ],
   "source": [
    "b4_c1 = tf.nn.conv2d(b3_p, tf.Variable(tf.truncated_normal(shape=[3, 3, 256, 512], stddev=0.05)), [1,1,1,1], 'SAME')\n",
    "b4_c1 += tf.Variable(tf.constant(0.05, shape=[512]))\n",
    "\n",
    "b4_c2 = tf.nn.conv2d(b4_c1, tf.Variable(tf.truncated_normal(shape=[3, 3, 512, 512], stddev=0.05)), [1,1,1,1], 'SAME')\n",
    "b4_c2 += tf.Variable(tf.constant(0.05, shape=[512]))\n",
    "\n",
    "b4_c3 = tf.nn.conv2d(b4_c2, tf.Variable(tf.truncated_normal(shape=[3, 3, 512, 512], stddev=0.05)), [1,1,1,1], 'SAME')\n",
    "b4_c3 += tf.Variable(tf.constant(0.05, shape=[512]))\n",
    "\n",
    "b4_p = tf.nn.max_pool(b4_c3, [1, 2, 2, 1], [1,2,2,1], 'SAME')\n",
    "b4_p"
   ]
  },
  {
   "cell_type": "markdown",
   "metadata": {},
   "source": [
    "### Note:\n",
    "our fourth convolution block has shape (?, 4, 4, 512). So its small enough to be flattened or in other word we dont need to make a fifth convolution block as like as VGG does. "
   ]
  },
  {
   "cell_type": "code",
   "execution_count": 7,
   "metadata": {},
   "outputs": [
    {
     "data": {
      "text/plain": [
       "<tf.Tensor 'add_11:0' shape=(?, 10) dtype=float32>"
      ]
     },
     "execution_count": 7,
     "metadata": {},
     "output_type": "execute_result"
    }
   ],
   "source": [
    "flattened = tf.contrib.layers.flatten(b4_p)\n",
    "fc1 = tf.matmul(flattened, tf.Variable(tf.truncated_normal([4*4*512, 500], stddev=0.05)))\n",
    "fc1 += tf.Variable(tf.constant(0.05, shape=[500]))\n",
    "fc2 = tf.matmul(fc1, tf.Variable(tf.truncated_normal([500, 10], stddev=0.05)))\n",
    "fc2 += tf.Variable(tf.constant(0.05, shape=[10]))\n",
    "fc2"
   ]
  },
  {
   "cell_type": "markdown",
   "metadata": {},
   "source": [
    "Softamx Function:\n",
    "![](assets/softmax.jpg)"
   ]
  },
  {
   "cell_type": "code",
   "execution_count": 8,
   "metadata": {},
   "outputs": [],
   "source": [
    "output = tf.nn.softmax(fc2)"
   ]
  },
  {
   "cell_type": "markdown",
   "metadata": {},
   "source": [
    "## Losses and Optimizer\n",
    "loss: for counting the distance of predicted tensor with the true label, optimizer: for minimizing the loss "
   ]
  },
  {
   "cell_type": "code",
   "execution_count": 9,
   "metadata": {},
   "outputs": [],
   "source": [
    "loss = tf.reduce_mean(tf.nn.softmax_cross_entropy_with_logits(logits=fc2, labels=y_output))\n",
    "optimizer =  tf.train.AdamOptimizer(1e-4).minimize(loss)\n",
    "\n",
    "y_pred = tf.argmax(output, axis=1)\n",
    "correct = tf.equal(y_pred, tf.argmax(y_output, axis=1))\n",
    "accuracy = tf.reduce_mean(tf.cast(correct, tf.float32))"
   ]
  },
  {
   "cell_type": "markdown",
   "metadata": {},
   "source": [
    "## Saver and Session\n"
   ]
  },
  {
   "cell_type": "code",
   "execution_count": 10,
   "metadata": {},
   "outputs": [],
   "source": [
    "saver = tf.train.Saver()\n",
    "session = tf.InteractiveSession()\n",
    "save_path = 'checkpoints/'\n",
    "session.run(tf.global_variables_initializer())"
   ]
  },
  {
   "cell_type": "markdown",
   "metadata": {},
   "source": [
    "## Image Pipeline\n",
    "In this section we will build a pipeline for feeding image to our network."
   ]
  },
  {
   "cell_type": "code",
   "execution_count": 11,
   "metadata": {},
   "outputs": [],
   "source": [
    "def get_fileNames(path):\n",
    "    f = []\n",
    "    for (dirpath, dirnames, filenames) in walk(path):\n",
    "        f.extend(filenames)\n",
    "        break\n",
    "    return f"
   ]
  },
  {
   "cell_type": "code",
   "execution_count": 12,
   "metadata": {},
   "outputs": [],
   "source": [
    "classes = ['0', '1', '2', '3', '4', '5', '6', '7', '8', '9']\n",
    "images = []\n",
    "labels = []\n",
    "\n",
    "for i in classes:\n",
    "    path = 'dataset/' + i + \"/\"\n",
    "    files = get_fileNames(path)\n",
    "    for j in files:\n",
    "        im = cv2.imread(path + j)\n",
    "        im = cv2.resize(im, (60, 60))\n",
    "        lbl = np.zeros(10)\n",
    "        lbl[int(i)] = 1.0\n",
    "        images.append(im)\n",
    "        labels.append(lbl)\n",
    "        \n",
    "images = np.array(images)\n",
    "images = images.astype(np.float32)\n",
    "images /= 255\n",
    "\n",
    "labels = np.array(labels)"
   ]
  },
  {
   "cell_type": "markdown",
   "metadata": {},
   "source": [
    "Now, we want to see the train images"
   ]
  },
  {
   "cell_type": "code",
   "execution_count": 13,
   "metadata": {},
   "outputs": [
    {
     "data": {
      "image/png": "[encoded data removed]",
      "text/plain": [
       "<matplotlib.figure.Figure at 0x7f4a77e136d0>"
      ]
     },
     "metadata": {},
     "output_type": "display_data"
    },
    {
     "name": "stdout",
     "output_type": "stream",
     "text": [
      "[ 0.  0.  0.  0.  0.  1.  0.  0.  0.  0.]\n"
     ]
    }
   ],
   "source": [
    "import random\n",
    "i = random.randint(1, 600)\n",
    "plt.imshow(images[i])\n",
    "plt.show()\n",
    "print (labels[i])"
   ]
  },
  {
   "cell_type": "code",
   "execution_count": 14,
   "metadata": {},
   "outputs": [],
   "source": [
    "train_losses = []\n",
    "val_losses = []"
   ]
  },
  {
   "cell_type": "code",
   "execution_count": 15,
   "metadata": {},
   "outputs": [],
   "source": [
    "def optimize(iterations):\n",
    "    im, lb = shuffle(images, labels)\n",
    "    train_images  = im[: 400]\n",
    "    train_labels = lb[: 400]\n",
    "    val_images = im[400:]\n",
    "    val_labels = lb[400:]\n",
    "    \n",
    "    best_loss = 100.0\n",
    "    \n",
    "    for i in range(iterations):\n",
    "        sign = '-'\n",
    "        \n",
    "        '''\n",
    "        for i in range(len(val_images)):\n",
    "            plt.imshow(train_images[i])\n",
    "            plt.show()\n",
    "            print train_labels[i]\n",
    "        '''\n",
    "    \n",
    "        train_feed_dict={x_input:train_images, y_output:train_labels}\n",
    "        val_feed_dict = {x_input:val_images, y_output:val_labels}\n",
    "        \n",
    "        session.run(optimizer, train_feed_dict)\n",
    "        train_loss = session.run(loss, train_feed_dict)\n",
    "        val_loss = session.run(loss, val_feed_dict)\n",
    "        train_accuracy = session.run(accuracy, train_feed_dict)\n",
    "        val_accuracy = session.run(accuracy, val_feed_dict)\n",
    "        \n",
    "        train_losses.append(train_loss)\n",
    "        \n",
    "        if val_loss < best_loss:\n",
    "            saver.save(sess=session, save_path=save_path + \"model1\")\n",
    "            best_loss = val_loss\n",
    "            sign = '*'\n",
    "        \n",
    "        print ('Epoch: {0}, Train Loss: {1:1.3}, Train Accu: {2:1.3}, Val Loss: {3:1.3}, Val Accu: {4:1.3}, {5}'.format(i, train_loss, train_accuracy, val_loss, val_accuracy, sign))"
   ]
  },
  {
   "cell_type": "code",
   "execution_count": 16,
   "metadata": {},
   "outputs": [
    {
     "name": "stdout",
     "output_type": "stream",
     "text": [
      "Epoch: 0, Train Loss: 1.98e+02, Train Accu: 0.112, Val Loss: 2.34e+02, Val Accu: 0.095, -\n",
      "Epoch: 1, Train Loss: 3.4e+02, Train Accu: 0.115, Val Loss: 3.85e+02, Val Accu: 0.09, -\n",
      "Epoch: 2, Train Loss: 4.08e+02, Train Accu: 0.14, Val Loss: 4.23e+02, Val Accu: 0.095, -\n",
      "Epoch: 3, Train Loss: 4.24e+02, Train Accu: 0.123, Val Loss: 4.08e+02, Val Accu: 0.105, -\n",
      "Epoch: 4, Train Loss: 4.15e+02, Train Accu: 0.132, Val Loss: 3.83e+02, Val Accu: 0.16, -\n",
      "Epoch: 5, Train Loss: 3.68e+02, Train Accu: 0.135, Val Loss: 3.34e+02, Val Accu: 0.17, -\n",
      "Epoch: 6, Train Loss: 3.03e+02, Train Accu: 0.195, Val Loss: 2.76e+02, Val Accu: 0.255, -\n",
      "Epoch: 7, Train Loss: 2.45e+02, Train Accu: 0.183, Val Loss: 2.25e+02, Val Accu: 0.25, -\n",
      "Epoch: 8, Train Loss: 1.24e+02, Train Accu: 0.22, Val Loss: 1.16e+02, Val Accu: 0.295, -\n",
      "Epoch: 9, Train Loss: 1.05e+02, Train Accu: 0.175, Val Loss: 1.02e+02, Val Accu: 0.135, -\n",
      "Epoch: 10, Train Loss: 1.02e+02, Train Accu: 0.195, Val Loss: 1.07e+02, Val Accu: 0.165, -\n",
      "Epoch: 11, Train Loss: 82.2, Train Accu: 0.177, Val Loss: 1.01e+02, Val Accu: 0.105, -\n",
      "Epoch: 12, Train Loss: 92.1, Train Accu: 0.162, Val Loss: 1.08e+02, Val Accu: 0.125, -\n",
      "Epoch: 13, Train Loss: 80.3, Train Accu: 0.305, Val Loss: 96.4, Val Accu: 0.275, *\n",
      "Epoch: 14, Train Loss: 84.2, Train Accu: 0.305, Val Loss: 98.0, Val Accu: 0.285, -\n",
      "Epoch: 15, Train Loss: 83.4, Train Accu: 0.298, Val Loss: 93.3, Val Accu: 0.29, *\n",
      "Epoch: 16, Train Loss: 77.4, Train Accu: 0.268, Val Loss: 87.6, Val Accu: 0.275, *\n",
      "Epoch: 17, Train Loss: 54.3, Train Accu: 0.36, Val Loss: 64.3, Val Accu: 0.32, *\n",
      "Epoch: 18, Train Loss: 35.6, Train Accu: 0.587, Val Loss: 44.9, Val Accu: 0.565, *\n",
      "Epoch: 19, Train Loss: 31.8, Train Accu: 0.598, Val Loss: 41.6, Val Accu: 0.55, *\n",
      "Epoch: 20, Train Loss: 30.6, Train Accu: 0.562, Val Loss: 41.6, Val Accu: 0.515, -\n",
      "Epoch: 21, Train Loss: 28.6, Train Accu: 0.575, Val Loss: 40.5, Val Accu: 0.55, *\n",
      "Epoch: 22, Train Loss: 25.6, Train Accu: 0.595, Val Loss: 37.9, Val Accu: 0.535, *\n",
      "Epoch: 23, Train Loss: 22.5, Train Accu: 0.582, Val Loss: 34.7, Val Accu: 0.53, *\n",
      "Epoch: 24, Train Loss: 17.4, Train Accu: 0.595, Val Loss: 28.6, Val Accu: 0.53, *\n",
      "Epoch: 25, Train Loss: 11.0, Train Accu: 0.668, Val Loss: 20.1, Val Accu: 0.575, *\n",
      "Epoch: 26, Train Loss: 8.59, Train Accu: 0.69, Val Loss: 15.4, Val Accu: 0.58, *\n",
      "Epoch: 27, Train Loss: 13.5, Train Accu: 0.582, Val Loss: 18.5, Val Accu: 0.505, -\n",
      "Epoch: 28, Train Loss: 14.1, Train Accu: 0.558, Val Loss: 18.3, Val Accu: 0.5, -\n",
      "Epoch: 29, Train Loss: 7.61, Train Accu: 0.69, Val Loss: 11.7, Val Accu: 0.605, *\n",
      "Epoch: 30, Train Loss: 4.51, Train Accu: 0.8, Val Loss: 9.92, Val Accu: 0.65, *\n",
      "Epoch: 31, Train Loss: 4.68, Train Accu: 0.77, Val Loss: 10.5, Val Accu: 0.64, -\n",
      "Epoch: 32, Train Loss: 4.66, Train Accu: 0.803, Val Loss: 10.7, Val Accu: 0.685, -\n",
      "Epoch: 33, Train Loss: 4.21, Train Accu: 0.82, Val Loss: 10.4, Val Accu: 0.695, -\n",
      "Epoch: 34, Train Loss: 3.67, Train Accu: 0.837, Val Loss: 10.6, Val Accu: 0.69, -\n",
      "Epoch: 35, Train Loss: 3.47, Train Accu: 0.82, Val Loss: 10.8, Val Accu: 0.695, -\n",
      "Epoch: 36, Train Loss: 3.33, Train Accu: 0.817, Val Loss: 10.7, Val Accu: 0.69, -\n",
      "Epoch: 37, Train Loss: 3.13, Train Accu: 0.832, Val Loss: 10.2, Val Accu: 0.695, -\n",
      "Epoch: 38, Train Loss: 2.86, Train Accu: 0.825, Val Loss: 9.56, Val Accu: 0.71, *\n",
      "Epoch: 39, Train Loss: 2.68, Train Accu: 0.848, Val Loss: 9.12, Val Accu: 0.7, *\n",
      "Epoch: 40, Train Loss: 2.6, Train Accu: 0.87, Val Loss: 8.87, Val Accu: 0.73, *\n",
      "Epoch: 41, Train Loss: 2.46, Train Accu: 0.877, Val Loss: 8.54, Val Accu: 0.74, *\n",
      "Epoch: 42, Train Loss: 2.23, Train Accu: 0.882, Val Loss: 7.97, Val Accu: 0.735, *\n",
      "Epoch: 43, Train Loss: 1.83, Train Accu: 0.887, Val Loss: 7.21, Val Accu: 0.75, *\n",
      "Epoch: 44, Train Loss: 1.4, Train Accu: 0.92, Val Loss: 6.45, Val Accu: 0.785, *\n",
      "Epoch: 45, Train Loss: 1.15, Train Accu: 0.942, Val Loss: 5.89, Val Accu: 0.795, *\n",
      "Epoch: 46, Train Loss: 0.965, Train Accu: 0.942, Val Loss: 5.46, Val Accu: 0.805, *\n",
      "Epoch: 47, Train Loss: 0.822, Train Accu: 0.95, Val Loss: 5.13, Val Accu: 0.825, *\n",
      "Epoch: 48, Train Loss: 0.717, Train Accu: 0.957, Val Loss: 4.99, Val Accu: 0.81, *\n",
      "Epoch: 49, Train Loss: 0.634, Train Accu: 0.95, Val Loss: 4.95, Val Accu: 0.82, *\n",
      "Epoch: 50, Train Loss: 0.557, Train Accu: 0.955, Val Loss: 4.97, Val Accu: 0.815, -\n",
      "Epoch: 51, Train Loss: 0.487, Train Accu: 0.96, Val Loss: 5.06, Val Accu: 0.79, -\n",
      "Epoch: 52, Train Loss: 0.438, Train Accu: 0.967, Val Loss: 5.15, Val Accu: 0.785, -\n",
      "Epoch: 53, Train Loss: 0.401, Train Accu: 0.967, Val Loss: 5.23, Val Accu: 0.79, -\n",
      "Epoch: 54, Train Loss: 0.369, Train Accu: 0.967, Val Loss: 5.28, Val Accu: 0.785, -\n",
      "Epoch: 55, Train Loss: 0.345, Train Accu: 0.967, Val Loss: 5.31, Val Accu: 0.785, -\n",
      "Epoch: 56, Train Loss: 0.322, Train Accu: 0.967, Val Loss: 5.31, Val Accu: 0.78, -\n",
      "Epoch: 57, Train Loss: 0.3, Train Accu: 0.967, Val Loss: 5.28, Val Accu: 0.785, -\n",
      "Epoch: 58, Train Loss: 0.269, Train Accu: 0.97, Val Loss: 5.19, Val Accu: 0.79, -\n",
      "Epoch: 59, Train Loss: 0.233, Train Accu: 0.97, Val Loss: 5.07, Val Accu: 0.795, -\n",
      "Epoch: 60, Train Loss: 0.193, Train Accu: 0.975, Val Loss: 4.94, Val Accu: 0.805, *\n",
      "Epoch: 61, Train Loss: 0.154, Train Accu: 0.983, Val Loss: 4.8, Val Accu: 0.815, *\n",
      "Epoch: 62, Train Loss: 0.116, Train Accu: 0.985, Val Loss: 4.66, Val Accu: 0.815, *\n",
      "Epoch: 63, Train Loss: 0.0739, Train Accu: 0.985, Val Loss: 4.54, Val Accu: 0.825, *\n",
      "Epoch: 64, Train Loss: 0.0376, Train Accu: 0.99, Val Loss: 4.43, Val Accu: 0.82, *\n",
      "Epoch: 65, Train Loss: 0.0195, Train Accu: 0.993, Val Loss: 4.34, Val Accu: 0.825, *\n",
      "Epoch: 66, Train Loss: 0.00885, Train Accu: 0.995, Val Loss: 4.28, Val Accu: 0.835, *\n",
      "Epoch: 67, Train Loss: 0.00544, Train Accu: 0.998, Val Loss: 4.23, Val Accu: 0.835, *\n",
      "Epoch: 68, Train Loss: 0.00615, Train Accu: 0.998, Val Loss: 4.19, Val Accu: 0.835, *\n",
      "Epoch: 69, Train Loss: 0.00734, Train Accu: 0.998, Val Loss: 4.17, Val Accu: 0.835, *\n",
      "Epoch: 70, Train Loss: 0.00767, Train Accu: 0.998, Val Loss: 4.15, Val Accu: 0.835, *\n",
      "Epoch: 71, Train Loss: 0.00707, Train Accu: 0.998, Val Loss: 4.14, Val Accu: 0.835, *\n",
      "Epoch: 72, Train Loss: 0.00579, Train Accu: 0.998, Val Loss: 4.13, Val Accu: 0.83, *\n",
      "Epoch: 73, Train Loss: 0.00424, Train Accu: 0.998, Val Loss: 4.12, Val Accu: 0.83, *\n",
      "Epoch: 74, Train Loss: 0.00301, Train Accu: 1.0, Val Loss: 4.1, Val Accu: 0.83, *\n",
      "Epoch: 75, Train Loss: 0.00238, Train Accu: 1.0, Val Loss: 4.09, Val Accu: 0.83, *\n",
      "Epoch: 76, Train Loss: 0.00194, Train Accu: 1.0, Val Loss: 4.08, Val Accu: 0.835, *\n",
      "Epoch: 77, Train Loss: 0.00145, Train Accu: 1.0, Val Loss: 4.07, Val Accu: 0.835, *\n",
      "Epoch: 78, Train Loss: 0.000984, Train Accu: 1.0, Val Loss: 4.06, Val Accu: 0.835, *\n",
      "Epoch: 79, Train Loss: 0.000654, Train Accu: 1.0, Val Loss: 4.05, Val Accu: 0.835, *\n",
      "Epoch: 80, Train Loss: 0.00046, Train Accu: 1.0, Val Loss: 4.05, Val Accu: 0.84, *\n"
     ]
    },
    {
     "ename": "KeyboardInterrupt",
     "evalue": "",
     "output_type": "error",
     "traceback": [
      "\u001b[0;31m---------------------------------------------------------------------------\u001b[0m",
      "\u001b[0;31mKeyboardInterrupt\u001b[0m                         Traceback (most recent call last)",
      "\u001b[0;32m<ipython-input-16-332d685530f5>\u001b[0m in \u001b[0;36m<module>\u001b[0;34m()\u001b[0m\n\u001b[0;32m----> 1\u001b[0;31m \u001b[0moptimize\u001b[0m\u001b[0;34m(\u001b[0m\u001b[0;36m100\u001b[0m\u001b[0;34m)\u001b[0m\u001b[0;34m\u001b[0m\u001b[0m\n\u001b[0m",
      "\u001b[0;32m<ipython-input-15-2ed1a6cb9c6e>\u001b[0m in \u001b[0;36moptimize\u001b[0;34m(iterations)\u001b[0m\n\u001b[1;32m     30\u001b[0m \u001b[0;34m\u001b[0m\u001b[0m\n\u001b[1;32m     31\u001b[0m         \u001b[0;32mif\u001b[0m \u001b[0mval_loss\u001b[0m \u001b[0;34m<\u001b[0m \u001b[0mbest_loss\u001b[0m\u001b[0;34m:\u001b[0m\u001b[0;34m\u001b[0m\u001b[0m\n\u001b[0;32m---> 32\u001b[0;31m             \u001b[0msaver\u001b[0m\u001b[0;34m.\u001b[0m\u001b[0msave\u001b[0m\u001b[0;34m(\u001b[0m\u001b[0msess\u001b[0m\u001b[0;34m=\u001b[0m\u001b[0msession\u001b[0m\u001b[0;34m,\u001b[0m \u001b[0msave_path\u001b[0m\u001b[0;34m=\u001b[0m\u001b[0msave_path\u001b[0m \u001b[0;34m+\u001b[0m \u001b[0;34m\"model1\"\u001b[0m\u001b[0;34m)\u001b[0m\u001b[0;34m\u001b[0m\u001b[0m\n\u001b[0m\u001b[1;32m     33\u001b[0m             \u001b[0mbest_loss\u001b[0m \u001b[0;34m=\u001b[0m \u001b[0mval_loss\u001b[0m\u001b[0;34m\u001b[0m\u001b[0m\n\u001b[1;32m     34\u001b[0m             \u001b[0msign\u001b[0m \u001b[0;34m=\u001b[0m \u001b[0;34m'*'\u001b[0m\u001b[0;34m\u001b[0m\u001b[0m\n",
      "\u001b[0;32m/usr/local/lib/python2.7/dist-packages/tensorflow/python/training/saver.pyc\u001b[0m in \u001b[0;36msave\u001b[0;34m(self, sess, save_path, global_step, latest_filename, meta_graph_suffix, write_meta_graph, write_state)\u001b[0m\n\u001b[1;32m   1571\u001b[0m           model_checkpoint_path = sess.run(\n\u001b[1;32m   1572\u001b[0m               \u001b[0mself\u001b[0m\u001b[0;34m.\u001b[0m\u001b[0msaver_def\u001b[0m\u001b[0;34m.\u001b[0m\u001b[0msave_tensor_name\u001b[0m\u001b[0;34m,\u001b[0m\u001b[0;34m\u001b[0m\u001b[0m\n\u001b[0;32m-> 1573\u001b[0;31m               {self.saver_def.filename_tensor_name: checkpoint_file})\n\u001b[0m\u001b[1;32m   1574\u001b[0m         \u001b[0;32melse\u001b[0m\u001b[0;34m:\u001b[0m\u001b[0;34m\u001b[0m\u001b[0m\n\u001b[1;32m   1575\u001b[0m           self._build_eager(\n",
      "\u001b[0;32m/usr/local/lib/python2.7/dist-packages/tensorflow/python/client/session.pyc\u001b[0m in \u001b[0;36mrun\u001b[0;34m(self, fetches, feed_dict, options, run_metadata)\u001b[0m\n\u001b[1;32m    887\u001b[0m     \u001b[0;32mtry\u001b[0m\u001b[0;34m:\u001b[0m\u001b[0;34m\u001b[0m\u001b[0m\n\u001b[1;32m    888\u001b[0m       result = self._run(None, fetches, feed_dict, options_ptr,\n\u001b[0;32m--> 889\u001b[0;31m                          run_metadata_ptr)\n\u001b[0m\u001b[1;32m    890\u001b[0m       \u001b[0;32mif\u001b[0m \u001b[0mrun_metadata\u001b[0m\u001b[0;34m:\u001b[0m\u001b[0;34m\u001b[0m\u001b[0m\n\u001b[1;32m    891\u001b[0m         \u001b[0mproto_data\u001b[0m \u001b[0;34m=\u001b[0m \u001b[0mtf_session\u001b[0m\u001b[0;34m.\u001b[0m\u001b[0mTF_GetBuffer\u001b[0m\u001b[0;34m(\u001b[0m\u001b[0mrun_metadata_ptr\u001b[0m\u001b[0;34m)\u001b[0m\u001b[0;34m\u001b[0m\u001b[0m\n",
      "\u001b[0;32m/usr/local/lib/python2.7/dist-packages/tensorflow/python/client/session.pyc\u001b[0m in \u001b[0;36m_run\u001b[0;34m(self, handle, fetches, feed_dict, options, run_metadata)\u001b[0m\n\u001b[1;32m   1118\u001b[0m     \u001b[0;32mif\u001b[0m \u001b[0mfinal_fetches\u001b[0m \u001b[0;32mor\u001b[0m \u001b[0mfinal_targets\u001b[0m \u001b[0;32mor\u001b[0m \u001b[0;34m(\u001b[0m\u001b[0mhandle\u001b[0m \u001b[0;32mand\u001b[0m \u001b[0mfeed_dict_tensor\u001b[0m\u001b[0;34m)\u001b[0m\u001b[0;34m:\u001b[0m\u001b[0;34m\u001b[0m\u001b[0m\n\u001b[1;32m   1119\u001b[0m       results = self._do_run(handle, final_targets, final_fetches,\n\u001b[0;32m-> 1120\u001b[0;31m                              feed_dict_tensor, options, run_metadata)\n\u001b[0m\u001b[1;32m   1121\u001b[0m     \u001b[0;32melse\u001b[0m\u001b[0;34m:\u001b[0m\u001b[0;34m\u001b[0m\u001b[0m\n\u001b[1;32m   1122\u001b[0m       \u001b[0mresults\u001b[0m \u001b[0;34m=\u001b[0m \u001b[0;34m[\u001b[0m\u001b[0;34m]\u001b[0m\u001b[0;34m\u001b[0m\u001b[0m\n",
      "\u001b[0;32m/usr/local/lib/python2.7/dist-packages/tensorflow/python/client/session.pyc\u001b[0m in \u001b[0;36m_do_run\u001b[0;34m(self, handle, target_list, fetch_list, feed_dict, options, run_metadata)\u001b[0m\n\u001b[1;32m   1315\u001b[0m     \u001b[0;32mif\u001b[0m \u001b[0mhandle\u001b[0m \u001b[0;32mis\u001b[0m \u001b[0mNone\u001b[0m\u001b[0;34m:\u001b[0m\u001b[0;34m\u001b[0m\u001b[0m\n\u001b[1;32m   1316\u001b[0m       return self._do_call(_run_fn, self._session, feeds, fetches, targets,\n\u001b[0;32m-> 1317\u001b[0;31m                            options, run_metadata)\n\u001b[0m\u001b[1;32m   1318\u001b[0m     \u001b[0;32melse\u001b[0m\u001b[0;34m:\u001b[0m\u001b[0;34m\u001b[0m\u001b[0m\n\u001b[1;32m   1319\u001b[0m       \u001b[0;32mreturn\u001b[0m \u001b[0mself\u001b[0m\u001b[0;34m.\u001b[0m\u001b[0m_do_call\u001b[0m\u001b[0;34m(\u001b[0m\u001b[0m_prun_fn\u001b[0m\u001b[0;34m,\u001b[0m \u001b[0mself\u001b[0m\u001b[0;34m.\u001b[0m\u001b[0m_session\u001b[0m\u001b[0;34m,\u001b[0m \u001b[0mhandle\u001b[0m\u001b[0;34m,\u001b[0m \u001b[0mfeeds\u001b[0m\u001b[0;34m,\u001b[0m \u001b[0mfetches\u001b[0m\u001b[0;34m)\u001b[0m\u001b[0;34m\u001b[0m\u001b[0m\n",
      "\u001b[0;32m/usr/local/lib/python2.7/dist-packages/tensorflow/python/client/session.pyc\u001b[0m in \u001b[0;36m_do_call\u001b[0;34m(self, fn, *args)\u001b[0m\n\u001b[1;32m   1321\u001b[0m   \u001b[0;32mdef\u001b[0m \u001b[0m_do_call\u001b[0m\u001b[0;34m(\u001b[0m\u001b[0mself\u001b[0m\u001b[0;34m,\u001b[0m \u001b[0mfn\u001b[0m\u001b[0;34m,\u001b[0m \u001b[0;34m*\u001b[0m\u001b[0margs\u001b[0m\u001b[0;34m)\u001b[0m\u001b[0;34m:\u001b[0m\u001b[0;34m\u001b[0m\u001b[0m\n\u001b[1;32m   1322\u001b[0m     \u001b[0;32mtry\u001b[0m\u001b[0;34m:\u001b[0m\u001b[0;34m\u001b[0m\u001b[0m\n\u001b[0;32m-> 1323\u001b[0;31m       \u001b[0;32mreturn\u001b[0m \u001b[0mfn\u001b[0m\u001b[0;34m(\u001b[0m\u001b[0;34m*\u001b[0m\u001b[0margs\u001b[0m\u001b[0;34m)\u001b[0m\u001b[0;34m\u001b[0m\u001b[0m\n\u001b[0m\u001b[1;32m   1324\u001b[0m     \u001b[0;32mexcept\u001b[0m \u001b[0merrors\u001b[0m\u001b[0;34m.\u001b[0m\u001b[0mOpError\u001b[0m \u001b[0;32mas\u001b[0m \u001b[0me\u001b[0m\u001b[0;34m:\u001b[0m\u001b[0;34m\u001b[0m\u001b[0m\n\u001b[1;32m   1325\u001b[0m       \u001b[0mmessage\u001b[0m \u001b[0;34m=\u001b[0m \u001b[0mcompat\u001b[0m\u001b[0;34m.\u001b[0m\u001b[0mas_text\u001b[0m\u001b[0;34m(\u001b[0m\u001b[0me\u001b[0m\u001b[0;34m.\u001b[0m\u001b[0mmessage\u001b[0m\u001b[0;34m)\u001b[0m\u001b[0;34m\u001b[0m\u001b[0m\n",
      "\u001b[0;32m/usr/local/lib/python2.7/dist-packages/tensorflow/python/client/session.pyc\u001b[0m in \u001b[0;36m_run_fn\u001b[0;34m(session, feed_dict, fetch_list, target_list, options, run_metadata)\u001b[0m\n\u001b[1;32m   1300\u001b[0m           return tf_session.TF_Run(session, options,\n\u001b[1;32m   1301\u001b[0m                                    \u001b[0mfeed_dict\u001b[0m\u001b[0;34m,\u001b[0m \u001b[0mfetch_list\u001b[0m\u001b[0;34m,\u001b[0m \u001b[0mtarget_list\u001b[0m\u001b[0;34m,\u001b[0m\u001b[0;34m\u001b[0m\u001b[0m\n\u001b[0;32m-> 1302\u001b[0;31m                                    status, run_metadata)\n\u001b[0m\u001b[1;32m   1303\u001b[0m \u001b[0;34m\u001b[0m\u001b[0m\n\u001b[1;32m   1304\u001b[0m     \u001b[0;32mdef\u001b[0m \u001b[0m_prun_fn\u001b[0m\u001b[0;34m(\u001b[0m\u001b[0msession\u001b[0m\u001b[0;34m,\u001b[0m \u001b[0mhandle\u001b[0m\u001b[0;34m,\u001b[0m \u001b[0mfeed_dict\u001b[0m\u001b[0;34m,\u001b[0m \u001b[0mfetch_list\u001b[0m\u001b[0;34m)\u001b[0m\u001b[0;34m:\u001b[0m\u001b[0;34m\u001b[0m\u001b[0m\n",
      "\u001b[0;31mKeyboardInterrupt\u001b[0m: "
     ]
    }
   ],
   "source": [
    "optimize(100)"
   ]
  },
  {
   "cell_type": "code",
   "execution_count": null,
   "metadata": {},
   "outputs": [],
   "source": [
    "plt.plot()"
   ]
  }
 ],
 "metadata": {
  "kernelspec": {
   "display_name": "Python 2",
   "language": "python",
   "name": "python2"
  },
  "language_info": {
   "codemirror_mode": {
    "name": "ipython",
    "version": 2
   },
   "file_extension": ".py",
   "mimetype": "text/x-python",
   "name": "python",
   "nbconvert_exporter": "python",
   "pygments_lexer": "ipython2",
   "version": "2.7.12"
  }
 },
 "nbformat": 4,
 "nbformat_minor": 2
}
